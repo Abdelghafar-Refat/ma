{
  "nbformat": 4,
  "nbformat_minor": 0,
  "metadata": {
    "colab": {
      "name": "Untitled5.ipynb",
      "provenance": [],
      "authorship_tag": "ABX9TyMg4BqrTt/l7VBnGxwXRUGu",
      "include_colab_link": true
    },
    "kernelspec": {
      "name": "python3",
      "display_name": "Python 3"
    }
  },
  "cells": [
    {
      "cell_type": "markdown",
      "metadata": {
        "id": "view-in-github",
        "colab_type": "text"
      },
      "source": [
        "<a href=\"https://colab.research.google.com/github/Abdelghafar-Refat/ma/blob/master/Untitled5.ipynb\" target=\"_parent\"><img src=\"https://colab.research.google.com/assets/colab-badge.svg\" alt=\"Open In Colab\"/></a>"
      ]
    },
    {
      "cell_type": "code",
      "metadata": {
        "id": "YzmJ9QA_lHZx",
        "colab_type": "code",
        "cellView": "both",
        "colab": {}
      },
      "source": [
        "# Load libraries\n",
        "from sklearn.linear_model import LinearRegression\n",
        "from sklearn.datasets import load_boston\n",
        "# Load data with only two features\n",
        "boston = load_boston()\n",
        "features = boston.data[:,0:2]\n",
        "target = boston.target\n",
        "# Create linear regression\n",
        "regression = LinearRegression()\n",
        "# Fit the linear regression\n",
        "model = regression.fit(features, target)"
      ],
      "execution_count": 0,
      "outputs": []
    },
    {
      "cell_type": "code",
      "metadata": {
        "id": "gMdo-XajlJh0",
        "colab_type": "code",
        "outputId": "3bd0915b-7ad9-4839-a095-d6e1e04aaf46",
        "colab": {
          "base_uri": "https://localhost:8080/",
          "height": 35
        }
      },
      "source": [
        "# View the intercept\n",
        "model.intercept_"
      ],
      "execution_count": 0,
      "outputs": [
        {
          "output_type": "execute_result",
          "data": {
            "text/plain": [
              "22.485628113468223"
            ]
          },
          "metadata": {
            "tags": []
          },
          "execution_count": 12
        }
      ]
    },
    {
      "cell_type": "code",
      "metadata": {
        "id": "-Ct_w4uyRtfj",
        "colab_type": "code",
        "outputId": "63f32754-f838-4fbb-b7d9-c28f13fd80aa",
        "colab": {
          "base_uri": "https://localhost:8080/",
          "height": 35
        }
      },
      "source": [
        "# View the feature coefficients\n",
        "model.coef_"
      ],
      "execution_count": 0,
      "outputs": [
        {
          "output_type": "execute_result",
          "data": {
            "text/plain": [
              "array([-0.35207832,  0.11610909])"
            ]
          },
          "metadata": {
            "tags": []
          },
          "execution_count": 13
        }
      ]
    },
    {
      "cell_type": "code",
      "metadata": {
        "id": "kFawQfsJSWHR",
        "colab_type": "code",
        "cellView": "form",
        "colab": {}
      },
      "source": [
        "#@title\n"
      ],
      "execution_count": 0,
      "outputs": []
    }
  ]
}